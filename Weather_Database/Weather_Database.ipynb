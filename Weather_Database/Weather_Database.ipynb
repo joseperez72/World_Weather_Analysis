{
 "cells": [
  {
   "cell_type": "code",
   "execution_count": 1,
   "id": "9d69c749",
   "metadata": {},
   "outputs": [],
   "source": [
    "# Import the dependencies.\n",
    "import pandas as pd\n",
    "import matplotlib.pyplot as plt\n",
    "import numpy as np\n",
    "from config import weather_api_key\n",
    "import requests\n",
    "from citipy import citipy"
   ]
  },
  {
   "cell_type": "markdown",
   "id": "839eb7cf",
   "metadata": {},
   "source": [
    "### Step 3\n",
    "Create a new set of 2,000 random latitudes and longitudes."
   ]
  },
  {
   "cell_type": "code",
   "execution_count": 5,
   "id": "b0ffdc14",
   "metadata": {},
   "outputs": [],
   "source": [
    "# Create a set of random latitude and longitude combinations.\n",
    "lats = np.random.uniform(low=-90.000, high=90.000, size=10500)\n",
    "lngs = np.random.uniform(low=-180.000, high=180.000, size=10500)\n",
    "lat_lngs = zip(lats, lngs)"
   ]
  },
  {
   "cell_type": "code",
   "execution_count": 6,
   "id": "8d243cc0",
   "metadata": {},
   "outputs": [],
   "source": [
    "# Add the latitudes and longitudes to a list.\n",
    "coordinates = list(lat_lngs)"
   ]
  },
  {
   "cell_type": "markdown",
   "id": "518c8920",
   "metadata": {},
   "source": [
    "### Step 4\n",
    "Get the nearest city using the `citipy` module."
   ]
  },
  {
   "cell_type": "code",
   "execution_count": 7,
   "id": "0c426dc3",
   "metadata": {},
   "outputs": [
    {
     "data": {
      "text/plain": [
       "2296"
      ]
     },
     "execution_count": 7,
     "metadata": {},
     "output_type": "execute_result"
    }
   ],
   "source": [
    "# Create a list for holding the cities.\n",
    "cities = []\n",
    "# Identify the nearest city for each latitude and longitude combination.\n",
    "for coordinate in coordinates:\n",
    "    city = citipy.nearest_city(coordinate[0], coordinate[1]).city_name\n",
    "\n",
    "    # If the city is unique, then we will add it to the cities list.\n",
    "    if city not in cities:\n",
    "        cities.append(city)\n",
    "# Print the city count to confirm sufficient count.\n",
    "len(cities)"
   ]
  },
  {
   "cell_type": "markdown",
   "id": "1ab60f82",
   "metadata": {},
   "source": [
    "### Step 5 and 6\n",
    "Perform an API call with the OpenWeatherMap.\n",
    "\n",
    "Retrieve the following information from the API call:\n",
    "\n",
    "Latitude and longitude,\n",
    "Maximum temperature,\n",
    "Percent humidity,\n",
    "Percent cloudiness,\n",
    "Wind speed,\n",
    "Weather description (for example, clouds, fog, light rain, clear sky)"
   ]
  },
  {
   "cell_type": "code",
   "execution_count": 8,
   "id": "91bacd58",
   "metadata": {},
   "outputs": [],
   "source": [
    "# Starting URL for Weather Map API Call.\n",
    "url = \"http://api.openweathermap.org/data/2.5/weather?units=imperial&appid=\" + weather_api_key"
   ]
  },
  {
   "cell_type": "code",
   "execution_count": null,
   "id": "3cb89429",
   "metadata": {},
   "outputs": [],
   "source": [
    "# Create an empty list to hold the weather data.\n",
    "city_data = []\n",
    "# Print the beginning of the logging.\n",
    "print(\"Beginning Data Retrieval     \")\n",
    "print(\"-----------------------------\")\n",
    "\n",
    "# Create counters.\n",
    "record_count = 1\n",
    "set_count = 1\n",
    "\n",
    "# Loop through all the cities in the list.\n",
    "for i, city in enumerate(cities):\n",
    "\n",
    "    # Group cities in sets of 50 for logging purposes.\n",
    "    if (i % 50 == 0 and i >= 50):\n",
    "        set_count += 1\n",
    "        record_count = 1\n",
    "        time.sleep(60)\n",
    "\n",
    "    # Create endpoint URL with each city.\n",
    "    city_url = url + \"&q=\" + city.replace(\" \",\"+\")\n",
    "\n",
    "    # Log the URL, record, and set numbers and the city.\n",
    "    print(f\"Processing Record {record_count} of Set {set_count} | {city}\")\n",
    "    # Add 1 to the record count.\n",
    "    record_count += 1\n",
    "    \n",
    "# Run an API request for each of the cities.\n",
    "    try:\n",
    "        # Parse the JSON and retrieve data.\n",
    "        city_weather = requests.get(city_url).json()\n",
    "        # Parse out the needed data.\n",
    "        city_lat = city_weather[\"coord\"][\"lat\"]\n",
    "        city_country = city_weather[\"sys\"][\"country\"]\n",
    "        city_lng = city_weather[\"coord\"][\"lon\"]\n",
    "        city_max_temp = city_weather[\"main\"][\"temp_max\"]\n",
    "        city_humidity = city_weather[\"main\"][\"humidity\"]\n",
    "        city_clouds = city_weather[\"clouds\"][\"all\"]\n",
    "        city_wind = city_weather[\"wind\"][\"speed\"]\n",
    "        city_weather_description = city_weather['weather'][0]['description']\n",
    "        \n",
    "        # Append the city information into city_data list.\n",
    "        city_data.append({\"City\": city.title(),\n",
    "                          \"Country\": city_country,\n",
    "                          \"Lat\": city_lat,\n",
    "                          \"Lng\": city_lng,\n",
    "                          \"Max Temp\": city_max_temp,\n",
    "                          \"Humidity\": city_humidity,\n",
    "                          \"Cloudiness\": city_clouds,\n",
    "                          \"Wind Speed\": city_wind,\n",
    "                          \"Current Description\": city_weather_description})\n",
    "\n",
    "# If an error is experienced, skip the city.\n",
    "    except:\n",
    "        print(\"City not found. Skipping...\")\n",
    "        pass\n",
    "\n",
    "# Indicate that Data Loading is complete.\n",
    "print(\"-----------------------------\")\n",
    "print(\"Data Retrieval Complete      \")\n",
    "print(\"-----------------------------\")"
   ]
  },
  {
   "cell_type": "code",
   "execution_count": 11,
   "id": "4bb56650",
   "metadata": {},
   "outputs": [
    {
     "data": {
      "text/plain": [
       "2133"
      ]
     },
     "execution_count": 11,
     "metadata": {},
     "output_type": "execute_result"
    }
   ],
   "source": [
    "len(city_data)"
   ]
  },
  {
   "cell_type": "markdown",
   "id": "3049f022",
   "metadata": {},
   "source": [
    "### Step 7\n",
    "Add the data to a new DataFrame"
   ]
  },
  {
   "cell_type": "code",
   "execution_count": 14,
   "id": "d5f47b17",
   "metadata": {},
   "outputs": [
    {
     "data": {
      "text/html": [
       "<div>\n",
       "<style scoped>\n",
       "    .dataframe tbody tr th:only-of-type {\n",
       "        vertical-align: middle;\n",
       "    }\n",
       "\n",
       "    .dataframe tbody tr th {\n",
       "        vertical-align: top;\n",
       "    }\n",
       "\n",
       "    .dataframe thead th {\n",
       "        text-align: right;\n",
       "    }\n",
       "</style>\n",
       "<table border=\"1\" class=\"dataframe\">\n",
       "  <thead>\n",
       "    <tr style=\"text-align: right;\">\n",
       "      <th></th>\n",
       "      <th>City</th>\n",
       "      <th>Country</th>\n",
       "      <th>Lat</th>\n",
       "      <th>Lng</th>\n",
       "      <th>Max Temp</th>\n",
       "      <th>Humidity</th>\n",
       "      <th>Cloudiness</th>\n",
       "      <th>Wind Speed</th>\n",
       "      <th>Current Description</th>\n",
       "    </tr>\n",
       "  </thead>\n",
       "  <tbody>\n",
       "    <tr>\n",
       "      <th>0</th>\n",
       "      <td>Rikitea</td>\n",
       "      <td>PF</td>\n",
       "      <td>-23.1203</td>\n",
       "      <td>-134.9692</td>\n",
       "      <td>78.98</td>\n",
       "      <td>69</td>\n",
       "      <td>5</td>\n",
       "      <td>7.52</td>\n",
       "      <td>clear sky</td>\n",
       "    </tr>\n",
       "    <tr>\n",
       "      <th>1</th>\n",
       "      <td>Punta Arenas</td>\n",
       "      <td>CL</td>\n",
       "      <td>-53.1500</td>\n",
       "      <td>-70.9167</td>\n",
       "      <td>44.71</td>\n",
       "      <td>70</td>\n",
       "      <td>0</td>\n",
       "      <td>8.05</td>\n",
       "      <td>clear sky</td>\n",
       "    </tr>\n",
       "    <tr>\n",
       "      <th>2</th>\n",
       "      <td>Hilo</td>\n",
       "      <td>US</td>\n",
       "      <td>19.7297</td>\n",
       "      <td>-155.0900</td>\n",
       "      <td>73.80</td>\n",
       "      <td>90</td>\n",
       "      <td>0</td>\n",
       "      <td>0.00</td>\n",
       "      <td>clear sky</td>\n",
       "    </tr>\n",
       "    <tr>\n",
       "      <th>3</th>\n",
       "      <td>Kahramanmaras</td>\n",
       "      <td>TR</td>\n",
       "      <td>38.0000</td>\n",
       "      <td>37.0000</td>\n",
       "      <td>21.83</td>\n",
       "      <td>100</td>\n",
       "      <td>97</td>\n",
       "      <td>4.03</td>\n",
       "      <td>overcast clouds</td>\n",
       "    </tr>\n",
       "    <tr>\n",
       "      <th>4</th>\n",
       "      <td>Ketchikan</td>\n",
       "      <td>US</td>\n",
       "      <td>55.3422</td>\n",
       "      <td>-131.6461</td>\n",
       "      <td>45.07</td>\n",
       "      <td>70</td>\n",
       "      <td>40</td>\n",
       "      <td>9.22</td>\n",
       "      <td>scattered clouds</td>\n",
       "    </tr>\n",
       "    <tr>\n",
       "      <th>...</th>\n",
       "      <td>...</td>\n",
       "      <td>...</td>\n",
       "      <td>...</td>\n",
       "      <td>...</td>\n",
       "      <td>...</td>\n",
       "      <td>...</td>\n",
       "      <td>...</td>\n",
       "      <td>...</td>\n",
       "      <td>...</td>\n",
       "    </tr>\n",
       "    <tr>\n",
       "      <th>2128</th>\n",
       "      <td>Bayan</td>\n",
       "      <td>CN</td>\n",
       "      <td>46.0833</td>\n",
       "      <td>127.4000</td>\n",
       "      <td>6.94</td>\n",
       "      <td>82</td>\n",
       "      <td>100</td>\n",
       "      <td>7.76</td>\n",
       "      <td>overcast clouds</td>\n",
       "    </tr>\n",
       "    <tr>\n",
       "      <th>2129</th>\n",
       "      <td>Gwembe</td>\n",
       "      <td>ZM</td>\n",
       "      <td>-16.4975</td>\n",
       "      <td>27.6069</td>\n",
       "      <td>69.28</td>\n",
       "      <td>82</td>\n",
       "      <td>96</td>\n",
       "      <td>1.79</td>\n",
       "      <td>light rain</td>\n",
       "    </tr>\n",
       "    <tr>\n",
       "      <th>2130</th>\n",
       "      <td>Arcata</td>\n",
       "      <td>US</td>\n",
       "      <td>40.8665</td>\n",
       "      <td>-124.0828</td>\n",
       "      <td>43.66</td>\n",
       "      <td>80</td>\n",
       "      <td>0</td>\n",
       "      <td>3.44</td>\n",
       "      <td>mist</td>\n",
       "    </tr>\n",
       "    <tr>\n",
       "      <th>2131</th>\n",
       "      <td>Sorso</td>\n",
       "      <td>IT</td>\n",
       "      <td>40.8000</td>\n",
       "      <td>8.5772</td>\n",
       "      <td>50.49</td>\n",
       "      <td>92</td>\n",
       "      <td>100</td>\n",
       "      <td>8.43</td>\n",
       "      <td>overcast clouds</td>\n",
       "    </tr>\n",
       "    <tr>\n",
       "      <th>2132</th>\n",
       "      <td>Muisne</td>\n",
       "      <td>EC</td>\n",
       "      <td>0.6000</td>\n",
       "      <td>-80.0333</td>\n",
       "      <td>75.88</td>\n",
       "      <td>85</td>\n",
       "      <td>100</td>\n",
       "      <td>5.82</td>\n",
       "      <td>overcast clouds</td>\n",
       "    </tr>\n",
       "  </tbody>\n",
       "</table>\n",
       "<p>2133 rows × 9 columns</p>\n",
       "</div>"
      ],
      "text/plain": [
       "               City Country      Lat       Lng  Max Temp  Humidity  \\\n",
       "0           Rikitea      PF -23.1203 -134.9692     78.98        69   \n",
       "1      Punta Arenas      CL -53.1500  -70.9167     44.71        70   \n",
       "2              Hilo      US  19.7297 -155.0900     73.80        90   \n",
       "3     Kahramanmaras      TR  38.0000   37.0000     21.83       100   \n",
       "4         Ketchikan      US  55.3422 -131.6461     45.07        70   \n",
       "...             ...     ...      ...       ...       ...       ...   \n",
       "2128          Bayan      CN  46.0833  127.4000      6.94        82   \n",
       "2129         Gwembe      ZM -16.4975   27.6069     69.28        82   \n",
       "2130         Arcata      US  40.8665 -124.0828     43.66        80   \n",
       "2131          Sorso      IT  40.8000    8.5772     50.49        92   \n",
       "2132         Muisne      EC   0.6000  -80.0333     75.88        85   \n",
       "\n",
       "      Cloudiness  Wind Speed Current Description  \n",
       "0              5        7.52           clear sky  \n",
       "1              0        8.05           clear sky  \n",
       "2              0        0.00           clear sky  \n",
       "3             97        4.03     overcast clouds  \n",
       "4             40        9.22    scattered clouds  \n",
       "...          ...         ...                 ...  \n",
       "2128         100        7.76     overcast clouds  \n",
       "2129          96        1.79          light rain  \n",
       "2130           0        3.44                mist  \n",
       "2131         100        8.43     overcast clouds  \n",
       "2132         100        5.82     overcast clouds  \n",
       "\n",
       "[2133 rows x 9 columns]"
      ]
     },
     "execution_count": 14,
     "metadata": {},
     "output_type": "execute_result"
    }
   ],
   "source": [
    "city_data_df = pd.DataFrame(city_data)\n",
    "city_data_df"
   ]
  },
  {
   "cell_type": "markdown",
   "id": "01387175",
   "metadata": {},
   "source": [
    "### Step 8\n",
    "Export the DataFrame as a CSV file, and save it as `WeatherPy_Database.csv` in the `Weather_Database` folder."
   ]
  },
  {
   "cell_type": "code",
   "execution_count": 15,
   "id": "e168fef0",
   "metadata": {},
   "outputs": [],
   "source": [
    "# Create the output file (CSV).\n",
    "output_data_file = \"Weather_Database/WeatherPy_Database.csv\"\n",
    "# Export the City_Data into a CSV.\n",
    "city_data_df.to_csv(output_data_file, index_label=\"City_ID\")"
   ]
  },
  {
   "cell_type": "code",
   "execution_count": null,
   "id": "c3e70260",
   "metadata": {},
   "outputs": [],
   "source": []
  }
 ],
 "metadata": {
  "kernelspec": {
   "display_name": "Python 3 (ipykernel)",
   "language": "python",
   "name": "python3"
  },
  "language_info": {
   "codemirror_mode": {
    "name": "ipython",
    "version": 3
   },
   "file_extension": ".py",
   "mimetype": "text/x-python",
   "name": "python",
   "nbconvert_exporter": "python",
   "pygments_lexer": "ipython3",
   "version": "3.9.7"
  }
 },
 "nbformat": 4,
 "nbformat_minor": 5
}
