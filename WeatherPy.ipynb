{
 "cells": [
  {
   "cell_type": "code",
   "execution_count": 1,
   "id": "1fd30dd8",
   "metadata": {},
   "outputs": [],
   "source": [
    "# Import the dependencies.\n",
    "import pandas as pd\n",
    "import matplotlib.pyplot as plt\n",
    "import numpy as np"
   ]
  },
  {
   "cell_type": "code",
   "execution_count": 2,
   "id": "baf62384",
   "metadata": {},
   "outputs": [
    {
     "data": {
      "text/plain": [
       "<zip at 0x7f9c193f0d40>"
      ]
     },
     "execution_count": 2,
     "metadata": {},
     "output_type": "execute_result"
    }
   ],
   "source": [
    "# Create a set of random latitude and longitude combinations.\n",
    "lats = np.random.uniform(low=-90.000, high=90.000, size=1500)\n",
    "lngs = np.random.uniform(low=-180.000, high=180.000, size=1500)\n",
    "lat_lngs = zip(lats, lngs)\n",
    "lat_lngs"
   ]
  },
  {
   "cell_type": "code",
   "execution_count": 3,
   "id": "cecf8263",
   "metadata": {},
   "outputs": [],
   "source": [
    "# Add the latitudes and longitudes to a list.\n",
    "coordinates = list(lat_lngs)"
   ]
  },
  {
   "cell_type": "code",
   "execution_count": 4,
   "id": "8c8d00e7",
   "metadata": {},
   "outputs": [],
   "source": [
    "# Use the citipy module to determine city based on latitude and longitude.\n",
    "from citipy import citipy"
   ]
  },
  {
   "cell_type": "code",
   "execution_count": 5,
   "id": "48951c50",
   "metadata": {},
   "outputs": [
    {
     "data": {
      "text/plain": [
       "639"
      ]
     },
     "execution_count": 5,
     "metadata": {},
     "output_type": "execute_result"
    }
   ],
   "source": [
    "# Create a list for holding the cities.\n",
    "cities = []\n",
    "# Identify the nearest city for each latitude and longitude combination.\n",
    "for coordinate in coordinates:\n",
    "    city = citipy.nearest_city(coordinate[0], coordinate[1]).city_name\n",
    "\n",
    "    # If the city is unique, then we will add it to the cities list.\n",
    "    if city not in cities:\n",
    "        cities.append(city)\n",
    "# Print the city count to confirm sufficient count.\n",
    "len(cities)\n"
   ]
  },
  {
   "cell_type": "code",
   "execution_count": 6,
   "id": "d5ac0592",
   "metadata": {},
   "outputs": [
    {
     "name": "stdout",
     "output_type": "stream",
     "text": [
      "['castro', 'puerto madero', 'fort-shevchenko', 'caravelas', 'dikson', 'bethel', 'souillac', 'mataura', 'vaini', 'grand river south east', 'qaanaaq', 'port elizabeth', 'glendive', 'hermanus', 'alyangula', 'bredasdorp', 'tomatlan', 'rikitea', 'chuy', 'lanigan', 'upernavik', 'westport', 'mabaruma', 'hithadhoo', 'port alfred', 'illoqqortoormiut', 'arraial do cabo', 'havelock', 'ibatiba', 'bluff', 'eureka', 'oeiras', 'tuktoyaktuk', 'kapaa', 'hay river', 'taolanaro', 'kazalinsk', 'busselton', 'saleaula', 'miami', 'srednekolymsk', 'verkhniye sergi', 'mar del plata', 'nikolskoye', 'buraydah', 'ushuaia', 'kashi', 'grand centre', 'chokurdakh', 'hilo', 'nisia floresta', 'sistranda', 'vardo', 'tura', 'bambous virieux', 'tongren', 'kanniyakumari', 'barentsburg', 'esperance', 'madaoua', 'qaqortoq', 'kendari', 'riyadh', 'albany', 'boksitogorsk', 'salalah', 'thompson', 'jabiru', 'atuona', 'babanusah', 'new norfolk', 'butaritari', 'richards bay', 'port hawkesbury', 'sabang', 'tilichiki', 'severo-kurilsk', 'ishigaki', 'novyy urengoy', 'selma', 'grootfontein', 'acapulco', 'samarai', 'saint george', 'cape town', 'vung tau', 'lebu', 'bosaso', 'dien bien', 'torbay', 'ostrovnoy', 'yellowknife', 'vila franca do campo', 'matamoros', 'nishihara', 'khatanga', 'san cristobal', 'ulaanbaatar', 'xai-xai', 'padang', 'chimala', 'balkanabat', 'kodiak', 'taoudenni', 'dingle', 'turukhansk', 'orel-izumrud', 'deputatskiy', 'sao raimundo das mangabeiras', 'sola', 'beringovskiy', 'kaeo', 'avarua', 'saint-philippe', 'painesville', 'puerto ayora', 'anadyr', 'sobolevo', 'kruisfontein', 'birin', 'barrow', 'mount isa', 'paso de carrasco', 'seydi', 'ovsyanka', 'aktau', 'itoman', 'punta arenas', 'porto novo', 'port macquarie', 'tasiilaq', 'matagami', 'chagda', 'coos bay', 'chiredzi', 'airai', 'san patricio', 'nizhneyansk', 'artesia', 'kyzyl', 'nguiu', 'pueblo nuevo', 'hami', 'hobart', 'belushya guba', 'yerbogachen', 'ornskoldsvik', 'hervey bay', 'mahebourg', 'leshukonskoye', 'tual', 'alotau', 'zaysan', 'manacapuru', 'mporokoso', 'dicabisagan', 'tuatapere', 'yate', 'karaul', 'carnarvon', 'palabuhanratu', 'rio grande', 'ndele', 'bloomingdale', 'carauari', 'ossora', 'praia', 'baykit', 'pisco', 'honiara', 'bayan', 'kieta', 'kotri', 'shchelyayur', 'buchanan', 'tallahassee', 'naze', 'poggibonsi', 'harlingen', 'sao filipe', 'ponta do sol', 'mrirt', 'port shepstone', 'christchurch', 'codrington', 'camabatela', 'cidreira', 'ancud', 'vila velha', 'martinsicuro', 'saskylakh', 'longyearbyen', 'bengkulu', 'ilulissat', 'vallenar', 'cayenne', 'ribeira grande', 'haibowan', 'port keats', 'nurota', 'aracuai', 'montgomery', 'bobo dioulasso', 'bambanglipuro', 'egvekinot', 'yunhe', 'kavaratti', 'sehithwa', 'trincomalee', 'jamestown', 'balkhash', 'vila do maio', 'yunyang', 'jiwani', 'luderitz', 'valdivia', 'east london', 'hofn', 'cockburn town', 'manavalakurichi', 'asau', 'goma', 'leningradskiy', 'katherine', 'henzada', 'sangar', 'alofi', 'nome', 'brae', 'georgetown', 'sao felix do xingu', 'yarmouth', 'sokoto', 'salmon creek', 'louisbourg', 'katsuura', 'sambava', 'kulmbach', 'port-gentil', 'tatawin', 'champerico', 'macapa', 'artyk', 'vanimo', 'cornella', 'sao joao da barra', 'okhotsk', 'tome', 'wawa', 'sitka', 'aranda de duero', 'viseu', 'muros', 'arica', 'loviisa', 'coquimbo', 'enkoping', 'kloulklubed', 'pozo colorado', 'hailar', 'rivadavia', 'saldanha', 'rudsar', 'mys shmidta', 'namatanai', 'nortelandia', 'pitimbu', 'ambilobe', 'lorengau', 'guerrero negro', 'dalbandin', 'nha trang', 'lagoa', 'lebedinyy', 'matay', 'norman wells', 'sawtell', 'yar-sale', 'luis correia', 'ahipara', 'karoi', 'weifang', 'eagle pass', 'umm ruwabah', 'anda', 'bukama', 'san carlos de bariloche', 'lishui', 'umm lajj', 'provideniya', 'alta floresta', 'isangel', 'eydhafushi', 'maarianhamina', 'ahome', 'kadykchan', 'tumannyy', 'ayagoz', 'kozhva', 'aripuana', 'lasa', 'waingapu', 'zhigansk', 'avera', 'sakakah', 'acajutla', 'noumea', 'lewisville', 'teahupoo', 'fort saint john', 'tsihombe', 'amderma', 'dzhusaly', 'walvis bay', 'jingdezhen', 'shihezi', 'oga', 'pevek', 'turinsk', 'birao', 'amuntai', 'high level', 'riberalta', 'clyde river', 'severnoye', 'grindavik', 'petropavl', 'chapais', 'warrnambool', 'hambantota', 'nyrob', 'pangai', 'oranjemund', 'ulefoss', 'lar gerd', 'corvallis', 'ca mau', 'dunedin', 'sao joao evangelista', 'mayya', 'moree', 'ambon', 'perth', 'jalu', 'irituia', 'gisborne', 'miranorte', 'goalpara', 'kalabo', 'puerto berrio', 'samusu', 'paamiut', 'union', 'blonduos', 'katubao', 'klaksvik', 'lyngseidet', 'halalo', 'taltal', 'kidal', 'college', 'hualmay', 'bud', 'launceston', 'mackay', 'muroto', 'otane', 'curico', 'tiksi', 'lensk', 'bestobe', 'touros', 'kaitangata', 'tupelo', 'point pedro', 'adrar', 'kovernino', 'mangai', 'soyo', 'ewa beach', 'port lincoln', 'homestead', 'jining', 'bilma', 'wajima', 'vaitupu', 'shunyi', 'xiaoshi', 'sault sainte marie', 'alihe', 'north bend', 'gat', 'daitari', 'teknaf', 'abha', 'cherskiy', 'mayo', 'jiangdu', 'araguatins', 'hobyo', 'fort nelson', 'lamu', 'wanaka', 'victoria', 'kuryk', 'rio gallegos', 'nanortalik', 'kasongo-lunda', 'san quintin', 'dwarka', 'hwange', 'krasnogorskiy', 'mandalgovi', 'shingu', 'umea', 'mizan teferi', 'ponta delgada', 'gornoye loo', 'rafraf', 'sinkat', 'aranos', 'daru', 'kotovo', 'novikovo', 'port hardy', 'yulara', 'duekoue', 'fairbanks', 'cheremukhovo', 'kalmunai', 'narsaq', 'burglengenfeld', 'sentyabrskiy', 'gurgan', 'hasaki', 'utiroa', 'tadine', 'alice springs', 'orange cove', 'datong', 'zdvinsk', 'sioux lookout', 'hirado', 'boditi', 'corn island', 'lithakia', 'acuna', 'najran', 'bubaque', 'rey bouba', 'rawlins', 'isabela', 'borogontsy', 'rustenburg', 'paraopeba', 'quatre cocos', 'whitehorse', 'atambua', 'venado tuerto', 'komsomolskiy', 'severodvinsk', 'santiago', 'umzimvubu', 'skjervoy', 'abu samrah', 'takoradi', 'iqaluit', 'mitsamiouli', 'yokadouma', 'san lorenzo', 'nadym', 'maragogi', 'synya', 'calca', 'sazonovo', 'marondera', 'aneho', 'pangnirtung', 'mahendranagar', 'marawi', 'kiunga', 'fairlie', 'port hedland', 'berezniki', 'bonthe', 'russell', 'constitucion', 'arkhipo-osipovka', 'sumbe', 'langenburg', 'lamar', 'beloha', 'cabo san lucas', 'huarmey', 'rocha', 'anloga', 'shuyskoye', 'nongan', 'makushino', 'moses lake', 'xining', 'falun', 'kumo', 'cabras', 'baneh', 'ashington', 'batemans bay', 'amberley', 'belaya gora', 'carutapera', 'maningrida', 'kuva', 'luwuk', 'muriti', 'geraldton', 'berlevag', 'numi', 'rosignol', 'tourlaville', 'kozyatyn', 'samaipata', 'mehamn', 'huangnihe', 'ksenyevka', 'guichicovi', 'vyazemskiy', 'eyrarbakki', 'pokhara', 'bavaniste', 'olafsvik', 'wabana', 'karratha', 'aitape', 'morki', 'mbarara', 'atar', 'honningsvag', 'omboue', 'yertsevo', 'sao francisco de paula', 'mbuji-mayi', 'mullaitivu', 'pergamino', 'barao de melgaco', 'gunjur', 'mosquera', 'tarare', 'do rud', 'pang', 'dondo', 'sena madureira', 'diego de almagro', 'jamame', 'salym', 'fayaoue', 'tiznit', 'asyut', 'lavrentiya', 'jizan', 'tianpeng', 'bokspits', 'ampanihy', 'babra', 'mount gambier', 'los llanos de aridane', 'port antonio', 'muhos', 'fayetteville', 'santa cruz del sur', 'madras', 'cocorit', 'seinajoki', 'notodden', 'nanae', 'turan', 'demyansk', 'soure', 'rimbey', 'morondava', 'ailigandi', 'lahaina', 'noyabrsk', 'bitung', 'byron bay', 'kununurra', 'cap malheureux', 'rio grande city', 'te anau', 'shirokiy', 'vrangel', 'kutum', 'eldikan', 'imamoglu', 'nuuk', 'tucuma', 'mahanje', 'douentza', 'attawapiskat', 'lazarev', 'farafangana', 'rungata', 'belmonte', 'akdepe', 'middelburg', 'sainte-anne-des-monts', 'pandan', 'ixtapa', 'poum', 'buzmeyin', 'wanning', 'craig', 'kavieng', 'tagusao', 'chimbote', 'montrose', 'rapid valley', 'maumere', 'inhambane', 'abnub', 'bathsheba', 'severnyy', 'klyuchi', 'nioro', 'el arenal', 'bara', 'quebec', 'luganville', 'saint-fabien', 'tocache', 'ilhabela', 'mamallapuram', 'makueni', 'kudahuvadhoo', 'bindura', 'tautira', 'maralal', 'kargasok', 'chemal', 'petropavlovsk-kamchatskiy']\n"
     ]
    }
   ],
   "source": [
    "print(cities)"
   ]
  },
  {
   "cell_type": "code",
   "execution_count": null,
   "id": "23e264ad",
   "metadata": {},
   "outputs": [],
   "source": []
  }
 ],
 "metadata": {
  "kernelspec": {
   "display_name": "PythonData",
   "language": "python",
   "name": "pythondata"
  },
  "language_info": {
   "codemirror_mode": {
    "name": "ipython",
    "version": 3
   },
   "file_extension": ".py",
   "mimetype": "text/x-python",
   "name": "python",
   "nbconvert_exporter": "python",
   "pygments_lexer": "ipython3",
   "version": "3.9.7"
  }
 },
 "nbformat": 4,
 "nbformat_minor": 5
}
